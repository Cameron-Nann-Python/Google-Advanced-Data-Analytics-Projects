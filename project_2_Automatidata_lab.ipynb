{
 "cells": [
  {
   "cell_type": "markdown",
   "metadata": {
    "id": "DtNBZFHO3M7n"
   },
   "source": [
    "# **Automatidata project**\n",
    "**Course 2 - Get Started with Python**"
   ]
  },
  {
   "cell_type": "markdown",
   "metadata": {
    "id": "zJCatj3xzrQZ"
   },
   "source": [
    "Welcome to the Automatidata Project!\n",
    "\n",
    "You have just started as a data professional in a fictional data consulting firm, Automatidata. Their client, the New York City Taxi and Limousine Commission (New York City TLC), has hired the Automatidata team for its reputation in helping their clients develop data-based solutions.\n",
    "\n",
    "The team is still in the early stages of the project. Previously, you were asked to complete a project proposal by your supervisor, DeShawn Washington. You have received notice that your project proposal has been approved and that New York City TLC has given the Automatidata team access to their data. To get clear insights, New York TLC's data must be analyzed, key variables identified, and the dataset ensured it is ready for analysis.\n",
    "\n",
    "A notebook was structured and prepared to help you in this project. Please complete the following questions."
   ]
  },
  {
   "cell_type": "markdown",
   "metadata": {
    "id": "rgSbVJvomcVa"
   },
   "source": [
    "# Course 2 End-of-course project: Inspect and analyze data\n",
    "\n",
    "In this activity, you will examine data provided and prepare it for analysis.  This activity will help ensure the information is,\n",
    "\n",
    "1.   Ready to answer questions and yield insights\n",
    "\n",
    "2.   Ready for visualizations\n",
    "\n",
    "3.   Ready for future hypothesis testing and statistical methods\n",
    "<br/>    \n",
    "\n",
    "**The purpose** of this project is to investigate and understand the data provided.\n",
    "  \n",
    "**The goal** is to use a dataframe contructed within Python, perform a cursory inspection of the provided dataset, and inform team members of your findings. \n",
    "<br/>  \n",
    "*This activity has three parts:*\n",
    "\n",
    "**Part 1:** Understand the situation \n",
    "* Prepare to understand and organize the provided taxi cab dataset and information.\n",
    "\n",
    "**Part 2:** Understand the data\n",
    "\n",
    "* Create a pandas dataframe for data learning, future exploratory data analysis (EDA), and statistical activities.\n",
    "\n",
    "* Compile summary information about the data to inform next steps.\n",
    "\n",
    "**Part 3:** Understand the variables\n",
    "\n",
    "* Use insights from your examination of the summary data to guide deeper investigation into specific variables.\n",
    "\n",
    "\n",
    "<br/> \n",
    "Follow the instructions and answer the following questions to complete the activity. Then, you will complete an Executive Summary using the questions listed on the PACE Strategy Document.\n",
    "\n",
    "Be sure to complete this activity before moving on. The next course item will provide you with a completed exemplar to compare to your own work. \n",
    "\n"
   ]
  },
  {
   "cell_type": "markdown",
   "metadata": {
    "id": "HjFGokxv2pc5"
   },
   "source": [
    "# **Identify data types and relevant variables using Python**\n"
   ]
  },
  {
   "cell_type": "markdown",
   "metadata": {
    "id": "MRUYfzCb4vop"
   },
   "source": [
    "<img src=\"images/Pace.png\" width=\"100\" height=\"100\" align=left>\n",
    "\n",
    "# **PACE stages**\n"
   ]
  },
  {
   "cell_type": "markdown",
   "metadata": {},
   "source": [
    "Throughout these project notebooks, you'll see references to the problem-solving framework PACE. The following notebook components are labeled with the respective PACE stage: Plan, Analyze, Construct, and Execute."
   ]
  },
  {
   "cell_type": "markdown",
   "metadata": {
    "id": "zRHb2QQWj99m"
   },
   "source": [
    "<img src=\"images/Plan.png\" width=\"100\" height=\"100\" align=left>\n",
    "\n",
    "\n",
    "## PACE: **Plan**\n",
    "\n",
    "Consider the questions in your PACE Strategy Document and those below to craft your response:"
   ]
  },
  {
   "cell_type": "markdown",
   "metadata": {
    "id": "pWEfG5zJV5oG"
   },
   "source": [
    "### **Task 1. Understand the situation**\n",
    "\n",
    "*   How can you best prepare to understand and organize the provided taxi cab information? "
   ]
  },
  {
   "cell_type": "markdown",
   "metadata": {},
   "source": [
    "To understand and organize the data, I need to prepare a DataFrame to view categories and their data types. With a DataFrame, I can generate statistics summaries, find outliers, and determine how missing values impact the dataset."
   ]
  },
  {
   "cell_type": "markdown",
   "metadata": {
    "id": "1E9Y5aC0IAA-"
   },
   "source": [
    "<img src=\"images/Analyze.png\" width=\"100\" height=\"100\" align=left>\n",
    "\n",
    "## PACE: **Analyze**\n",
    "\n",
    "Consider the questions in your PACE Strategy Document to reflect on the Analyze stage."
   ]
  },
  {
   "cell_type": "markdown",
   "metadata": {
    "id": "L6KgK-M8o3we"
   },
   "source": [
    "### **Task 2a. Build dataframe**\n",
    "\n",
    "\n",
    "\n",
    "\n",
    "\n",
    "\n",
    "\n",
    "\n",
    "\n",
    "\n",
    "\n",
    "\n",
    "\n",
    "\n"
   ]
  },
  {
   "cell_type": "markdown",
   "metadata": {
    "id": "D4WK_AxP_S__"
   },
   "source": [
    "Create a pandas dataframe for data learning, and future exploratory data analysis (EDA) and statistical activities.\n",
    "\n",
    "**Code the following,**\n",
    "\n",
    "*   import pandas as `pd`. pandas is used for buidling dataframes.\n",
    "\n",
    "*   import numpy as `np`. numpy is imported with pandas\n",
    "\n",
    "*   `df = pd.read_csv('Datasets\\NYC taxi data.csv')`\n",
    "\n",
    "**Note:** pair the data object name `df` with pandas functions to manipulate data, such as `df.groupby()`.\n",
    "\n",
    "**Note:** As shown in this cell, the dataset has been automatically loaded in for you. You do not need to download the .csv file, or provide more code, in order to access the dataset and proceed with this lab. Please continue with this activity by completing the following instructions."
   ]
  },
  {
   "cell_type": "code",
   "execution_count": null,
   "metadata": {
    "id": "OZSXM4q5zrQh"
   },
   "outputs": [
    {
     "name": "stdout",
     "output_type": "stream",
     "text": [
      "done\n"
     ]
    }
   ],
   "source": [
    "#Import libraries and packages listed above\n",
    "import pandas as pd\n",
    "import numpy as np\n",
    "\n",
    "# Load dataset into dataframe\n",
    "df = pd.read_csv('csv/2017_Yellow_Taxi_Trip_Data.csv', index_col=0)\n",
    "print(\"done\")"
   ]
  },
  {
   "cell_type": "markdown",
   "metadata": {
    "id": "gYx1emvno7U_"
   },
   "source": [
    "### **Task 2b. Understand the data - Inspect the data**\n",
    "\n",
    "View and inspect summary information about the dataframe by coding the following:\n",
    "\n",
    "1. `df.head(10)`\n",
    "2. `df.info()`\n",
    "3. `df.describe()`\n",
    "\n",
    "Consider the following two questions:\n",
    "\n",
    "**Question 1:** When reviewing the `df.info()` output, what do you notice about the different variables? Are there any null values? Are all of the variables numeric? Does anything else stand out?\n",
    "\n",
    "**Question 2:** When reviewing the `df.describe()` output, what do you notice about the distributions of each variable? Are there any questionable values?"
   ]
  },
  {
   "cell_type": "markdown",
   "metadata": {},
   "source": [
    "==> ENTER YOUR RESPONSE TO QUESTIONS 1 & 2 HERE"
   ]
  },
  {
   "cell_type": "code",
   "execution_count": 9,
   "metadata": {
    "id": "t7Nck2hh4R6J"
   },
   "outputs": [
    {
     "data": {
      "text/html": [
       "<div>\n",
       "<style scoped>\n",
       "    .dataframe tbody tr th:only-of-type {\n",
       "        vertical-align: middle;\n",
       "    }\n",
       "\n",
       "    .dataframe tbody tr th {\n",
       "        vertical-align: top;\n",
       "    }\n",
       "\n",
       "    .dataframe thead th {\n",
       "        text-align: right;\n",
       "    }\n",
       "</style>\n",
       "<table border=\"1\" class=\"dataframe\">\n",
       "  <thead>\n",
       "    <tr style=\"text-align: right;\">\n",
       "      <th></th>\n",
       "      <th>VendorID</th>\n",
       "      <th>tpep_pickup_datetime</th>\n",
       "      <th>tpep_dropoff_datetime</th>\n",
       "      <th>passenger_count</th>\n",
       "      <th>trip_distance</th>\n",
       "      <th>RatecodeID</th>\n",
       "      <th>store_and_fwd_flag</th>\n",
       "      <th>PULocationID</th>\n",
       "      <th>DOLocationID</th>\n",
       "      <th>payment_type</th>\n",
       "      <th>fare_amount</th>\n",
       "      <th>extra</th>\n",
       "      <th>mta_tax</th>\n",
       "      <th>tip_amount</th>\n",
       "      <th>tolls_amount</th>\n",
       "      <th>improvement_surcharge</th>\n",
       "      <th>total_amount</th>\n",
       "    </tr>\n",
       "  </thead>\n",
       "  <tbody>\n",
       "    <tr>\n",
       "      <th>24870114</th>\n",
       "      <td>2</td>\n",
       "      <td>03/25/2017 8:55:43 AM</td>\n",
       "      <td>03/25/2017 9:09:47 AM</td>\n",
       "      <td>6</td>\n",
       "      <td>3.34</td>\n",
       "      <td>1</td>\n",
       "      <td>N</td>\n",
       "      <td>100</td>\n",
       "      <td>231</td>\n",
       "      <td>1</td>\n",
       "      <td>13.0</td>\n",
       "      <td>0.0</td>\n",
       "      <td>0.5</td>\n",
       "      <td>2.76</td>\n",
       "      <td>0.0</td>\n",
       "      <td>0.3</td>\n",
       "      <td>16.56</td>\n",
       "    </tr>\n",
       "    <tr>\n",
       "      <th>35634249</th>\n",
       "      <td>1</td>\n",
       "      <td>04/11/2017 2:53:28 PM</td>\n",
       "      <td>04/11/2017 3:19:58 PM</td>\n",
       "      <td>1</td>\n",
       "      <td>1.80</td>\n",
       "      <td>1</td>\n",
       "      <td>N</td>\n",
       "      <td>186</td>\n",
       "      <td>43</td>\n",
       "      <td>1</td>\n",
       "      <td>16.0</td>\n",
       "      <td>0.0</td>\n",
       "      <td>0.5</td>\n",
       "      <td>4.00</td>\n",
       "      <td>0.0</td>\n",
       "      <td>0.3</td>\n",
       "      <td>20.80</td>\n",
       "    </tr>\n",
       "    <tr>\n",
       "      <th>106203690</th>\n",
       "      <td>1</td>\n",
       "      <td>12/15/2017 7:26:56 AM</td>\n",
       "      <td>12/15/2017 7:34:08 AM</td>\n",
       "      <td>1</td>\n",
       "      <td>1.00</td>\n",
       "      <td>1</td>\n",
       "      <td>N</td>\n",
       "      <td>262</td>\n",
       "      <td>236</td>\n",
       "      <td>1</td>\n",
       "      <td>6.5</td>\n",
       "      <td>0.0</td>\n",
       "      <td>0.5</td>\n",
       "      <td>1.45</td>\n",
       "      <td>0.0</td>\n",
       "      <td>0.3</td>\n",
       "      <td>8.75</td>\n",
       "    </tr>\n",
       "    <tr>\n",
       "      <th>38942136</th>\n",
       "      <td>2</td>\n",
       "      <td>05/07/2017 1:17:59 PM</td>\n",
       "      <td>05/07/2017 1:48:14 PM</td>\n",
       "      <td>1</td>\n",
       "      <td>3.70</td>\n",
       "      <td>1</td>\n",
       "      <td>N</td>\n",
       "      <td>188</td>\n",
       "      <td>97</td>\n",
       "      <td>1</td>\n",
       "      <td>20.5</td>\n",
       "      <td>0.0</td>\n",
       "      <td>0.5</td>\n",
       "      <td>6.39</td>\n",
       "      <td>0.0</td>\n",
       "      <td>0.3</td>\n",
       "      <td>27.69</td>\n",
       "    </tr>\n",
       "    <tr>\n",
       "      <th>30841670</th>\n",
       "      <td>2</td>\n",
       "      <td>04/15/2017 11:32:20 PM</td>\n",
       "      <td>04/15/2017 11:49:03 PM</td>\n",
       "      <td>1</td>\n",
       "      <td>4.37</td>\n",
       "      <td>1</td>\n",
       "      <td>N</td>\n",
       "      <td>4</td>\n",
       "      <td>112</td>\n",
       "      <td>2</td>\n",
       "      <td>16.5</td>\n",
       "      <td>0.5</td>\n",
       "      <td>0.5</td>\n",
       "      <td>0.00</td>\n",
       "      <td>0.0</td>\n",
       "      <td>0.3</td>\n",
       "      <td>17.80</td>\n",
       "    </tr>\n",
       "    <tr>\n",
       "      <th>23345809</th>\n",
       "      <td>2</td>\n",
       "      <td>03/25/2017 8:34:11 PM</td>\n",
       "      <td>03/25/2017 8:42:11 PM</td>\n",
       "      <td>6</td>\n",
       "      <td>2.30</td>\n",
       "      <td>1</td>\n",
       "      <td>N</td>\n",
       "      <td>161</td>\n",
       "      <td>236</td>\n",
       "      <td>1</td>\n",
       "      <td>9.0</td>\n",
       "      <td>0.5</td>\n",
       "      <td>0.5</td>\n",
       "      <td>2.06</td>\n",
       "      <td>0.0</td>\n",
       "      <td>0.3</td>\n",
       "      <td>12.36</td>\n",
       "    </tr>\n",
       "    <tr>\n",
       "      <th>37660487</th>\n",
       "      <td>2</td>\n",
       "      <td>05/03/2017 7:04:09 PM</td>\n",
       "      <td>05/03/2017 8:03:47 PM</td>\n",
       "      <td>1</td>\n",
       "      <td>12.83</td>\n",
       "      <td>1</td>\n",
       "      <td>N</td>\n",
       "      <td>79</td>\n",
       "      <td>241</td>\n",
       "      <td>1</td>\n",
       "      <td>47.5</td>\n",
       "      <td>1.0</td>\n",
       "      <td>0.5</td>\n",
       "      <td>9.86</td>\n",
       "      <td>0.0</td>\n",
       "      <td>0.3</td>\n",
       "      <td>59.16</td>\n",
       "    </tr>\n",
       "    <tr>\n",
       "      <th>69059411</th>\n",
       "      <td>2</td>\n",
       "      <td>08/15/2017 5:41:06 PM</td>\n",
       "      <td>08/15/2017 6:03:05 PM</td>\n",
       "      <td>1</td>\n",
       "      <td>2.98</td>\n",
       "      <td>1</td>\n",
       "      <td>N</td>\n",
       "      <td>237</td>\n",
       "      <td>114</td>\n",
       "      <td>1</td>\n",
       "      <td>16.0</td>\n",
       "      <td>1.0</td>\n",
       "      <td>0.5</td>\n",
       "      <td>1.78</td>\n",
       "      <td>0.0</td>\n",
       "      <td>0.3</td>\n",
       "      <td>19.58</td>\n",
       "    </tr>\n",
       "    <tr>\n",
       "      <th>8433159</th>\n",
       "      <td>2</td>\n",
       "      <td>02/04/2017 4:17:07 PM</td>\n",
       "      <td>02/04/2017 4:29:14 PM</td>\n",
       "      <td>1</td>\n",
       "      <td>1.20</td>\n",
       "      <td>1</td>\n",
       "      <td>N</td>\n",
       "      <td>234</td>\n",
       "      <td>249</td>\n",
       "      <td>2</td>\n",
       "      <td>9.0</td>\n",
       "      <td>0.0</td>\n",
       "      <td>0.5</td>\n",
       "      <td>0.00</td>\n",
       "      <td>0.0</td>\n",
       "      <td>0.3</td>\n",
       "      <td>9.80</td>\n",
       "    </tr>\n",
       "    <tr>\n",
       "      <th>95294817</th>\n",
       "      <td>1</td>\n",
       "      <td>11/10/2017 3:20:29 PM</td>\n",
       "      <td>11/10/2017 3:40:55 PM</td>\n",
       "      <td>1</td>\n",
       "      <td>1.60</td>\n",
       "      <td>1</td>\n",
       "      <td>N</td>\n",
       "      <td>239</td>\n",
       "      <td>237</td>\n",
       "      <td>1</td>\n",
       "      <td>13.0</td>\n",
       "      <td>0.0</td>\n",
       "      <td>0.5</td>\n",
       "      <td>2.75</td>\n",
       "      <td>0.0</td>\n",
       "      <td>0.3</td>\n",
       "      <td>16.55</td>\n",
       "    </tr>\n",
       "  </tbody>\n",
       "</table>\n",
       "</div>"
      ],
      "text/plain": [
       "           VendorID    tpep_pickup_datetime   tpep_dropoff_datetime  \\\n",
       "24870114          2   03/25/2017 8:55:43 AM   03/25/2017 9:09:47 AM   \n",
       "35634249          1   04/11/2017 2:53:28 PM   04/11/2017 3:19:58 PM   \n",
       "106203690         1   12/15/2017 7:26:56 AM   12/15/2017 7:34:08 AM   \n",
       "38942136          2   05/07/2017 1:17:59 PM   05/07/2017 1:48:14 PM   \n",
       "30841670          2  04/15/2017 11:32:20 PM  04/15/2017 11:49:03 PM   \n",
       "23345809          2   03/25/2017 8:34:11 PM   03/25/2017 8:42:11 PM   \n",
       "37660487          2   05/03/2017 7:04:09 PM   05/03/2017 8:03:47 PM   \n",
       "69059411          2   08/15/2017 5:41:06 PM   08/15/2017 6:03:05 PM   \n",
       "8433159           2   02/04/2017 4:17:07 PM   02/04/2017 4:29:14 PM   \n",
       "95294817          1   11/10/2017 3:20:29 PM   11/10/2017 3:40:55 PM   \n",
       "\n",
       "           passenger_count  trip_distance  RatecodeID store_and_fwd_flag  \\\n",
       "24870114                 6           3.34           1                  N   \n",
       "35634249                 1           1.80           1                  N   \n",
       "106203690                1           1.00           1                  N   \n",
       "38942136                 1           3.70           1                  N   \n",
       "30841670                 1           4.37           1                  N   \n",
       "23345809                 6           2.30           1                  N   \n",
       "37660487                 1          12.83           1                  N   \n",
       "69059411                 1           2.98           1                  N   \n",
       "8433159                  1           1.20           1                  N   \n",
       "95294817                 1           1.60           1                  N   \n",
       "\n",
       "           PULocationID  DOLocationID  payment_type  fare_amount  extra  \\\n",
       "24870114            100           231             1         13.0    0.0   \n",
       "35634249            186            43             1         16.0    0.0   \n",
       "106203690           262           236             1          6.5    0.0   \n",
       "38942136            188            97             1         20.5    0.0   \n",
       "30841670              4           112             2         16.5    0.5   \n",
       "23345809            161           236             1          9.0    0.5   \n",
       "37660487             79           241             1         47.5    1.0   \n",
       "69059411            237           114             1         16.0    1.0   \n",
       "8433159             234           249             2          9.0    0.0   \n",
       "95294817            239           237             1         13.0    0.0   \n",
       "\n",
       "           mta_tax  tip_amount  tolls_amount  improvement_surcharge  \\\n",
       "24870114       0.5        2.76           0.0                    0.3   \n",
       "35634249       0.5        4.00           0.0                    0.3   \n",
       "106203690      0.5        1.45           0.0                    0.3   \n",
       "38942136       0.5        6.39           0.0                    0.3   \n",
       "30841670       0.5        0.00           0.0                    0.3   \n",
       "23345809       0.5        2.06           0.0                    0.3   \n",
       "37660487       0.5        9.86           0.0                    0.3   \n",
       "69059411       0.5        1.78           0.0                    0.3   \n",
       "8433159        0.5        0.00           0.0                    0.3   \n",
       "95294817       0.5        2.75           0.0                    0.3   \n",
       "\n",
       "           total_amount  \n",
       "24870114          16.56  \n",
       "35634249          20.80  \n",
       "106203690          8.75  \n",
       "38942136          27.69  \n",
       "30841670          17.80  \n",
       "23345809          12.36  \n",
       "37660487          59.16  \n",
       "69059411          19.58  \n",
       "8433159            9.80  \n",
       "95294817          16.55  "
      ]
     },
     "execution_count": 9,
     "metadata": {},
     "output_type": "execute_result"
    }
   ],
   "source": [
    "df.head(10)"
   ]
  },
  {
   "cell_type": "code",
   "execution_count": 10,
   "metadata": {
    "id": "3NctoTSAvGGD"
   },
   "outputs": [
    {
     "name": "stdout",
     "output_type": "stream",
     "text": [
      "<class 'pandas.core.frame.DataFrame'>\n",
      "Int64Index: 22699 entries, 24870114 to 17208911\n",
      "Data columns (total 17 columns):\n",
      " #   Column                 Non-Null Count  Dtype  \n",
      "---  ------                 --------------  -----  \n",
      " 0   VendorID               22699 non-null  int64  \n",
      " 1   tpep_pickup_datetime   22699 non-null  object \n",
      " 2   tpep_dropoff_datetime  22699 non-null  object \n",
      " 3   passenger_count        22699 non-null  int64  \n",
      " 4   trip_distance          22699 non-null  float64\n",
      " 5   RatecodeID             22699 non-null  int64  \n",
      " 6   store_and_fwd_flag     22699 non-null  object \n",
      " 7   PULocationID           22699 non-null  int64  \n",
      " 8   DOLocationID           22699 non-null  int64  \n",
      " 9   payment_type           22699 non-null  int64  \n",
      " 10  fare_amount            22699 non-null  float64\n",
      " 11  extra                  22699 non-null  float64\n",
      " 12  mta_tax                22699 non-null  float64\n",
      " 13  tip_amount             22699 non-null  float64\n",
      " 14  tolls_amount           22699 non-null  float64\n",
      " 15  improvement_surcharge  22699 non-null  float64\n",
      " 16  total_amount           22699 non-null  float64\n",
      "dtypes: float64(8), int64(6), object(3)\n",
      "memory usage: 3.1+ MB\n"
     ]
    }
   ],
   "source": [
    "df.info()"
   ]
  },
  {
   "cell_type": "code",
   "execution_count": 11,
   "metadata": {},
   "outputs": [
    {
     "data": {
      "text/html": [
       "<div>\n",
       "<style scoped>\n",
       "    .dataframe tbody tr th:only-of-type {\n",
       "        vertical-align: middle;\n",
       "    }\n",
       "\n",
       "    .dataframe tbody tr th {\n",
       "        vertical-align: top;\n",
       "    }\n",
       "\n",
       "    .dataframe thead th {\n",
       "        text-align: right;\n",
       "    }\n",
       "</style>\n",
       "<table border=\"1\" class=\"dataframe\">\n",
       "  <thead>\n",
       "    <tr style=\"text-align: right;\">\n",
       "      <th></th>\n",
       "      <th>VendorID</th>\n",
       "      <th>passenger_count</th>\n",
       "      <th>trip_distance</th>\n",
       "      <th>RatecodeID</th>\n",
       "      <th>PULocationID</th>\n",
       "      <th>DOLocationID</th>\n",
       "      <th>payment_type</th>\n",
       "      <th>fare_amount</th>\n",
       "      <th>extra</th>\n",
       "      <th>mta_tax</th>\n",
       "      <th>tip_amount</th>\n",
       "      <th>tolls_amount</th>\n",
       "      <th>improvement_surcharge</th>\n",
       "      <th>total_amount</th>\n",
       "    </tr>\n",
       "  </thead>\n",
       "  <tbody>\n",
       "    <tr>\n",
       "      <th>count</th>\n",
       "      <td>22699.000000</td>\n",
       "      <td>22699.000000</td>\n",
       "      <td>22699.000000</td>\n",
       "      <td>22699.000000</td>\n",
       "      <td>22699.000000</td>\n",
       "      <td>22699.000000</td>\n",
       "      <td>22699.000000</td>\n",
       "      <td>22699.000000</td>\n",
       "      <td>22699.000000</td>\n",
       "      <td>22699.000000</td>\n",
       "      <td>22699.000000</td>\n",
       "      <td>22699.000000</td>\n",
       "      <td>22699.000000</td>\n",
       "      <td>22699.000000</td>\n",
       "    </tr>\n",
       "    <tr>\n",
       "      <th>mean</th>\n",
       "      <td>1.556236</td>\n",
       "      <td>1.642319</td>\n",
       "      <td>2.913313</td>\n",
       "      <td>1.043394</td>\n",
       "      <td>162.412353</td>\n",
       "      <td>161.527997</td>\n",
       "      <td>1.336887</td>\n",
       "      <td>13.026629</td>\n",
       "      <td>0.333275</td>\n",
       "      <td>0.497445</td>\n",
       "      <td>1.835781</td>\n",
       "      <td>0.312542</td>\n",
       "      <td>0.299551</td>\n",
       "      <td>16.310502</td>\n",
       "    </tr>\n",
       "    <tr>\n",
       "      <th>std</th>\n",
       "      <td>0.496838</td>\n",
       "      <td>1.285231</td>\n",
       "      <td>3.653171</td>\n",
       "      <td>0.708391</td>\n",
       "      <td>66.633373</td>\n",
       "      <td>70.139691</td>\n",
       "      <td>0.496211</td>\n",
       "      <td>13.243791</td>\n",
       "      <td>0.463097</td>\n",
       "      <td>0.039465</td>\n",
       "      <td>2.800626</td>\n",
       "      <td>1.399212</td>\n",
       "      <td>0.015673</td>\n",
       "      <td>16.097295</td>\n",
       "    </tr>\n",
       "    <tr>\n",
       "      <th>min</th>\n",
       "      <td>1.000000</td>\n",
       "      <td>0.000000</td>\n",
       "      <td>0.000000</td>\n",
       "      <td>1.000000</td>\n",
       "      <td>1.000000</td>\n",
       "      <td>1.000000</td>\n",
       "      <td>1.000000</td>\n",
       "      <td>-120.000000</td>\n",
       "      <td>-1.000000</td>\n",
       "      <td>-0.500000</td>\n",
       "      <td>0.000000</td>\n",
       "      <td>0.000000</td>\n",
       "      <td>-0.300000</td>\n",
       "      <td>-120.300000</td>\n",
       "    </tr>\n",
       "    <tr>\n",
       "      <th>25%</th>\n",
       "      <td>1.000000</td>\n",
       "      <td>1.000000</td>\n",
       "      <td>0.990000</td>\n",
       "      <td>1.000000</td>\n",
       "      <td>114.000000</td>\n",
       "      <td>112.000000</td>\n",
       "      <td>1.000000</td>\n",
       "      <td>6.500000</td>\n",
       "      <td>0.000000</td>\n",
       "      <td>0.500000</td>\n",
       "      <td>0.000000</td>\n",
       "      <td>0.000000</td>\n",
       "      <td>0.300000</td>\n",
       "      <td>8.750000</td>\n",
       "    </tr>\n",
       "    <tr>\n",
       "      <th>50%</th>\n",
       "      <td>2.000000</td>\n",
       "      <td>1.000000</td>\n",
       "      <td>1.610000</td>\n",
       "      <td>1.000000</td>\n",
       "      <td>162.000000</td>\n",
       "      <td>162.000000</td>\n",
       "      <td>1.000000</td>\n",
       "      <td>9.500000</td>\n",
       "      <td>0.000000</td>\n",
       "      <td>0.500000</td>\n",
       "      <td>1.350000</td>\n",
       "      <td>0.000000</td>\n",
       "      <td>0.300000</td>\n",
       "      <td>11.800000</td>\n",
       "    </tr>\n",
       "    <tr>\n",
       "      <th>75%</th>\n",
       "      <td>2.000000</td>\n",
       "      <td>2.000000</td>\n",
       "      <td>3.060000</td>\n",
       "      <td>1.000000</td>\n",
       "      <td>233.000000</td>\n",
       "      <td>233.000000</td>\n",
       "      <td>2.000000</td>\n",
       "      <td>14.500000</td>\n",
       "      <td>0.500000</td>\n",
       "      <td>0.500000</td>\n",
       "      <td>2.450000</td>\n",
       "      <td>0.000000</td>\n",
       "      <td>0.300000</td>\n",
       "      <td>17.800000</td>\n",
       "    </tr>\n",
       "    <tr>\n",
       "      <th>max</th>\n",
       "      <td>2.000000</td>\n",
       "      <td>6.000000</td>\n",
       "      <td>33.960000</td>\n",
       "      <td>99.000000</td>\n",
       "      <td>265.000000</td>\n",
       "      <td>265.000000</td>\n",
       "      <td>4.000000</td>\n",
       "      <td>999.990000</td>\n",
       "      <td>4.500000</td>\n",
       "      <td>0.500000</td>\n",
       "      <td>200.000000</td>\n",
       "      <td>19.100000</td>\n",
       "      <td>0.300000</td>\n",
       "      <td>1200.290000</td>\n",
       "    </tr>\n",
       "  </tbody>\n",
       "</table>\n",
       "</div>"
      ],
      "text/plain": [
       "           VendorID  passenger_count  trip_distance    RatecodeID  \\\n",
       "count  22699.000000     22699.000000   22699.000000  22699.000000   \n",
       "mean       1.556236         1.642319       2.913313      1.043394   \n",
       "std        0.496838         1.285231       3.653171      0.708391   \n",
       "min        1.000000         0.000000       0.000000      1.000000   \n",
       "25%        1.000000         1.000000       0.990000      1.000000   \n",
       "50%        2.000000         1.000000       1.610000      1.000000   \n",
       "75%        2.000000         2.000000       3.060000      1.000000   \n",
       "max        2.000000         6.000000      33.960000     99.000000   \n",
       "\n",
       "       PULocationID  DOLocationID  payment_type   fare_amount         extra  \\\n",
       "count  22699.000000  22699.000000  22699.000000  22699.000000  22699.000000   \n",
       "mean     162.412353    161.527997      1.336887     13.026629      0.333275   \n",
       "std       66.633373     70.139691      0.496211     13.243791      0.463097   \n",
       "min        1.000000      1.000000      1.000000   -120.000000     -1.000000   \n",
       "25%      114.000000    112.000000      1.000000      6.500000      0.000000   \n",
       "50%      162.000000    162.000000      1.000000      9.500000      0.000000   \n",
       "75%      233.000000    233.000000      2.000000     14.500000      0.500000   \n",
       "max      265.000000    265.000000      4.000000    999.990000      4.500000   \n",
       "\n",
       "            mta_tax    tip_amount  tolls_amount  improvement_surcharge  \\\n",
       "count  22699.000000  22699.000000  22699.000000           22699.000000   \n",
       "mean       0.497445      1.835781      0.312542               0.299551   \n",
       "std        0.039465      2.800626      1.399212               0.015673   \n",
       "min       -0.500000      0.000000      0.000000              -0.300000   \n",
       "25%        0.500000      0.000000      0.000000               0.300000   \n",
       "50%        0.500000      1.350000      0.000000               0.300000   \n",
       "75%        0.500000      2.450000      0.000000               0.300000   \n",
       "max        0.500000    200.000000     19.100000               0.300000   \n",
       "\n",
       "       total_amount  \n",
       "count  22699.000000  \n",
       "mean      16.310502  \n",
       "std       16.097295  \n",
       "min     -120.300000  \n",
       "25%        8.750000  \n",
       "50%       11.800000  \n",
       "75%       17.800000  \n",
       "max     1200.290000  "
      ]
     },
     "execution_count": 11,
     "metadata": {},
     "output_type": "execute_result"
    }
   ],
   "source": [
    "df.describe()"
   ]
  },
  {
   "cell_type": "markdown",
   "metadata": {},
   "source": [
    "There are no null values in the dataset. There are only three object datatypes in the set, while the rest are of type int64 or float64. When looking at df.describe(), there are definitely some outliers. The max for passenger_count and trip_distance are more than twice the average. There are negative amounts for fare_amount and total_amount."
   ]
  },
  {
   "cell_type": "markdown",
   "metadata": {
    "id": "BMNnIoc51_1N"
   },
   "source": [
    "### **Task 2c. Understand the data - Investigate the variables**\n",
    "\n",
    "Sort and interpret the data table for two variables:`trip_distance` and `total_amount`.\n",
    "\n",
    "**Answer the following three questions:**\n",
    "\n",
    "**Question 1:** Sort your first variable (`trip_distance`) from maximum to minimum value, do the values seem normal?\n",
    "\n",
    "**Question 2:** Sort by your second variable (`total_amount`), are any values unusual?\n",
    "\n",
    "**Question 3:** Are the resulting rows similar for both sorts? Why or why not?"
   ]
  },
  {
   "cell_type": "markdown",
   "metadata": {},
   "source": [
    "==> ENTER YOUR RESPONSES TO QUESTION 1-3 HERE"
   ]
  },
  {
   "cell_type": "code",
   "execution_count": 12,
   "metadata": {},
   "outputs": [
    {
     "data": {
      "text/plain": [
       "51810714    33.96\n",
       "40523668    33.92\n",
       "49894023    32.72\n",
       "76319330    31.95\n",
       "94052446    30.83\n",
       "            ...  \n",
       "63574825     0.00\n",
       "47368116     0.00\n",
       "91619825     0.00\n",
       "78660848     0.00\n",
       "58079289     0.00\n",
       "Name: trip_distance, Length: 22699, dtype: float64"
      ]
     },
     "execution_count": 12,
     "metadata": {},
     "output_type": "execute_result"
    }
   ],
   "source": [
    "# Sort the data by trip distance from maximum to minimum value\n",
    "df.trip_distance.sort_values(ascending=False)\n",
    "\n",
    "# trip_distances of 0 seem odd"
   ]
  },
  {
   "cell_type": "code",
   "execution_count": 13,
   "metadata": {},
   "outputs": [
    {
     "data": {
      "text/plain": [
       "11157412     1200.29\n",
       "107558404     450.30\n",
       "40523668      258.21\n",
       "107108848     233.74\n",
       "55538852      211.80\n",
       "49894023      179.06\n",
       "101198443     157.06\n",
       "111653084     152.30\n",
       "51920669      151.82\n",
       "51810714      150.30\n",
       "51087145      137.80\n",
       "76319330      131.80\n",
       "91660295      126.00\n",
       "107690629     123.30\n",
       "25075013      121.56\n",
       "111091850     120.96\n",
       "90375786      119.31\n",
       "93330154      115.94\n",
       "3055315       111.95\n",
       "94052446      111.38\n",
       "Name: total_amount, dtype: float64"
      ]
     },
     "execution_count": 13,
     "metadata": {},
     "output_type": "execute_result"
    }
   ],
   "source": [
    "# Sort the data by total amount and print the top 20 values\n",
    "df.total_amount.sort_values(ascending=False)[:20]\n",
    "\n",
    "# there seems to be an additional 0 for the highest amount"
   ]
  },
  {
   "cell_type": "code",
   "execution_count": 14,
   "metadata": {},
   "outputs": [
    {
     "data": {
      "text/plain": [
       "29059760    -120.30\n",
       "14668209      -5.80\n",
       "24690146      -5.80\n",
       "58395501      -5.30\n",
       "109276092     -5.30\n",
       "91187947      -4.80\n",
       "75926915      -4.80\n",
       "55302347      -4.30\n",
       "28459983      -4.30\n",
       "97329905      -4.30\n",
       "43859760      -3.80\n",
       "105454287     -3.80\n",
       "833948        -3.80\n",
       "57337183      -3.30\n",
       "26005024       0.00\n",
       "108016954      0.00\n",
       "49670364       0.00\n",
       "19022898       0.00\n",
       "58713019       0.30\n",
       "37675840       0.31\n",
       "Name: total_amount, dtype: float64"
      ]
     },
     "execution_count": 14,
     "metadata": {},
     "output_type": "execute_result"
    }
   ],
   "source": [
    "# Sort the data by total amount and print the bottom 20 values\n",
    "df.total_amount.sort_values()[:20]\n",
    "\n",
    "# there appears to be multiple negative amounts and 0 amounts (probably missing)"
   ]
  },
  {
   "cell_type": "code",
   "execution_count": 15,
   "metadata": {
    "id": "bAQeHW-d2S1-"
   },
   "outputs": [
    {
     "data": {
      "text/plain": [
       "payment_type\n",
       "1    15265\n",
       "2     7267\n",
       "3      121\n",
       "4       46\n",
       "Name: payment_type, dtype: int64"
      ]
     },
     "execution_count": 15,
     "metadata": {},
     "output_type": "execute_result"
    }
   ],
   "source": [
    "# How many of each payment type are represented in the data?\n",
    "df.groupby('payment_type')['payment_type'].count()\n",
    "\n",
    "# payment types 5 and 6 do not appear in the dataset"
   ]
  },
  {
   "cell_type": "markdown",
   "metadata": {},
   "source": [
    "According to the data dictionary, the payment method was encoded as follows:\n",
    "\n",
    "1 = Credit card  \n",
    "2 = Cash  \n",
    "3 = No charge  \n",
    "4 = Dispute  \n",
    "5 = Unknown  \n",
    "6 = Voided trip"
   ]
  },
  {
   "cell_type": "code",
   "execution_count": 20,
   "metadata": {
    "id": "W77hp8q3w-zi"
   },
   "outputs": [
    {
     "name": "stdout",
     "output_type": "stream",
     "text": [
      "Average tip with credit card: $2.73\n",
      "Average tip with cash: $0.00\n"
     ]
    }
   ],
   "source": [
    "# What is the average tip for trips paid for with credit card?\n",
    "average_tip_cc = df[df['payment_type']==1]['tip_amount'].mean()\n",
    "print(f'Average tip with credit card: ${average_tip_cc:.2f}')\n",
    "\n",
    "# What is the average tip for trips paid for with cash?\n",
    "average_tip_ca = df[df['payment_type']==2]['tip_amount'].mean()\n",
    "print(f'Average tip with cash: ${average_tip_ca:.2f}')\n",
    "\n",
    "# average tip of 0? Negative tips? No tips?"
   ]
  },
  {
   "cell_type": "code",
   "execution_count": 22,
   "metadata": {},
   "outputs": [
    {
     "data": {
      "text/plain": [
       "2    12626\n",
       "1    10073\n",
       "Name: VendorID, dtype: int64"
      ]
     },
     "execution_count": 22,
     "metadata": {},
     "output_type": "execute_result"
    }
   ],
   "source": [
    "# How many times is each vendor ID represented in the data?\n",
    "df.VendorID.value_counts()"
   ]
  },
  {
   "cell_type": "code",
   "execution_count": 23,
   "metadata": {},
   "outputs": [
    {
     "data": {
      "text/html": [
       "<div>\n",
       "<style scoped>\n",
       "    .dataframe tbody tr th:only-of-type {\n",
       "        vertical-align: middle;\n",
       "    }\n",
       "\n",
       "    .dataframe tbody tr th {\n",
       "        vertical-align: top;\n",
       "    }\n",
       "\n",
       "    .dataframe thead th {\n",
       "        text-align: right;\n",
       "    }\n",
       "</style>\n",
       "<table border=\"1\" class=\"dataframe\">\n",
       "  <thead>\n",
       "    <tr style=\"text-align: right;\">\n",
       "      <th></th>\n",
       "      <th>mean</th>\n",
       "    </tr>\n",
       "    <tr>\n",
       "      <th>VendorID</th>\n",
       "      <th></th>\n",
       "    </tr>\n",
       "  </thead>\n",
       "  <tbody>\n",
       "    <tr>\n",
       "      <th>1</th>\n",
       "      <td>1.0</td>\n",
       "    </tr>\n",
       "    <tr>\n",
       "      <th>2</th>\n",
       "      <td>2.0</td>\n",
       "    </tr>\n",
       "  </tbody>\n",
       "</table>\n",
       "</div>"
      ],
      "text/plain": [
       "          mean\n",
       "VendorID      \n",
       "1          1.0\n",
       "2          2.0"
      ]
     },
     "execution_count": 23,
     "metadata": {},
     "output_type": "execute_result"
    }
   ],
   "source": [
    "# What is the mean total amount for each vendor?\n",
    "df.groupby(['VendorID'])['VendorID'].agg(['mean'])"
   ]
  },
  {
   "cell_type": "code",
   "execution_count": 27,
   "metadata": {},
   "outputs": [
    {
     "data": {
      "text/plain": [
       "24870114     6\n",
       "35634249     1\n",
       "106203690    1\n",
       "38942136     1\n",
       "23345809     6\n",
       "            ..\n",
       "60425673     1\n",
       "67858616     1\n",
       "66632549     1\n",
       "60217333     1\n",
       "17208911     1\n",
       "Name: passenger_count, Length: 15265, dtype: int64"
      ]
     },
     "execution_count": 27,
     "metadata": {},
     "output_type": "execute_result"
    }
   ],
   "source": [
    "# Filter the data for credit card payments only\n",
    "credit_card_df = df[df['payment_type'] == 1]\n",
    "\n",
    "# Filter the credit-card-only data for passenger count only\n",
    "credit_card_passenger = credit_card_df['passenger_count']\n",
    "credit_card_passenger"
   ]
  },
  {
   "cell_type": "code",
   "execution_count": 28,
   "metadata": {},
   "outputs": [
    {
     "data": {
      "text/html": [
       "<div>\n",
       "<style scoped>\n",
       "    .dataframe tbody tr th:only-of-type {\n",
       "        vertical-align: middle;\n",
       "    }\n",
       "\n",
       "    .dataframe tbody tr th {\n",
       "        vertical-align: top;\n",
       "    }\n",
       "\n",
       "    .dataframe thead th {\n",
       "        text-align: right;\n",
       "    }\n",
       "</style>\n",
       "<table border=\"1\" class=\"dataframe\">\n",
       "  <thead>\n",
       "    <tr style=\"text-align: right;\">\n",
       "      <th></th>\n",
       "      <th>mean</th>\n",
       "    </tr>\n",
       "    <tr>\n",
       "      <th>passenger_count</th>\n",
       "      <th></th>\n",
       "    </tr>\n",
       "  </thead>\n",
       "  <tbody>\n",
       "    <tr>\n",
       "      <th>0</th>\n",
       "      <td>2.610370</td>\n",
       "    </tr>\n",
       "    <tr>\n",
       "      <th>1</th>\n",
       "      <td>2.714681</td>\n",
       "    </tr>\n",
       "    <tr>\n",
       "      <th>2</th>\n",
       "      <td>2.829949</td>\n",
       "    </tr>\n",
       "    <tr>\n",
       "      <th>3</th>\n",
       "      <td>2.726800</td>\n",
       "    </tr>\n",
       "    <tr>\n",
       "      <th>4</th>\n",
       "      <td>2.607753</td>\n",
       "    </tr>\n",
       "    <tr>\n",
       "      <th>5</th>\n",
       "      <td>2.762645</td>\n",
       "    </tr>\n",
       "    <tr>\n",
       "      <th>6</th>\n",
       "      <td>2.643326</td>\n",
       "    </tr>\n",
       "  </tbody>\n",
       "</table>\n",
       "</div>"
      ],
      "text/plain": [
       "                     mean\n",
       "passenger_count          \n",
       "0                2.610370\n",
       "1                2.714681\n",
       "2                2.829949\n",
       "3                2.726800\n",
       "4                2.607753\n",
       "5                2.762645\n",
       "6                2.643326"
      ]
     },
     "execution_count": 28,
     "metadata": {},
     "output_type": "execute_result"
    }
   ],
   "source": [
    "# Calculate the average tip amount for each passenger count (credit card payments only)\n",
    "credit_card_df.groupby('passenger_count')['tip_amount'].agg(['mean'])"
   ]
  },
  {
   "cell_type": "markdown",
   "metadata": {
    "id": "tF_82VLgzrQm"
   },
   "source": [
    "<img src=\"images/Construct.png\" width=\"100\" height=\"100\" align=left>\n",
    "\n",
    "## PACE: **Construct**\n",
    "\n",
    "**Note**: The Construct stage does not apply to this workflow. The PACE framework can be adapted to fit the specific requirements of any project. \n",
    "\n",
    "\n"
   ]
  },
  {
   "cell_type": "markdown",
   "metadata": {
    "id": "BMHV86A6zrQo"
   },
   "source": [
    "<img src=\"images/Execute.png\" width=\"100\" height=\"100\" align=left>\n",
    "\n",
    "## PACE: **Execute**\n",
    "\n",
    "Consider the questions in your PACE Strategy Document and those below to craft your response.\n"
   ]
  },
  {
   "cell_type": "markdown",
   "metadata": {
    "id": "u3HxcMZgz6iW"
   },
   "source": [
    "### **Given your efforts, what can you summarize for DeShawn and the data team?**\n",
    "\n",
    "*Note for Learners: Your notebook should contain data that can address Luana's requests. Which two variables are most helpful for building a predictive model for the client: NYC TLC?*"
   ]
  },
  {
   "cell_type": "markdown",
   "metadata": {},
   "source": [
    "trip_distance and total_amount"
   ]
  },
  {
   "cell_type": "markdown",
   "metadata": {},
   "source": [
    "It appears that there are some negative values for columns like total_amount. The data has no null values, so they were probably converted into zeros as the payment amounts for 5 and 6 are not represented in the dataset."
   ]
  },
  {
   "cell_type": "markdown",
   "metadata": {},
   "source": [
    "**Congratulations!** You've completed this lab. However, you may not notice a green check mark next to this item on Coursera's platform. Please continue your progress regardless of the check mark. Just click on the \"save\" icon at the top of this notebook to ensure your work has been logged."
   ]
  }
 ],
 "metadata": {
  "colab": {
   "collapsed_sections": [
    "u3HxcMZgz6iW"
   ],
   "provenance": []
  },
  "kernelspec": {
   "display_name": "Python 3",
   "language": "python",
   "name": "python3"
  },
  "language_info": {
   "codemirror_mode": {
    "name": "ipython",
    "version": 3
   },
   "file_extension": ".py",
   "mimetype": "text/x-python",
   "name": "python",
   "nbconvert_exporter": "python",
   "pygments_lexer": "ipython3",
   "version": "3.13.3"
  }
 },
 "nbformat": 4,
 "nbformat_minor": 1
}
